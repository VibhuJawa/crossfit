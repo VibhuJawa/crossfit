{
 "cells": [
  {
   "cell_type": "code",
   "execution_count": 1,
   "metadata": {},
   "outputs": [],
   "source": [
    "import os\n",
    "os.environ['TF_CPP_MIN_LOG_LEVEL'] = '3' \n",
    "\n",
    "import warnings\n",
    "warnings.filterwarnings(\"ignore\")\n",
    "\n",
    "import pandas as pd\n",
    "import numpy as np\n",
    "import tensorflow as tf\n",
    "import dask.dataframe as dd\n",
    "import crossfit as cf"
   ]
  },
  {
   "attachments": {},
   "cell_type": "markdown",
   "metadata": {},
   "source": [
    "### Generate some random data"
   ]
  },
  {
   "cell_type": "code",
   "execution_count": 2,
   "metadata": {},
   "outputs": [
    {
     "data": {
      "text/html": [
       "<div><strong>Dask DataFrame Structure:</strong></div>\n",
       "<div>\n",
       "<style scoped>\n",
       "    .dataframe tbody tr th:only-of-type {\n",
       "        vertical-align: middle;\n",
       "    }\n",
       "\n",
       "    .dataframe tbody tr th {\n",
       "        vertical-align: top;\n",
       "    }\n",
       "\n",
       "    .dataframe thead th {\n",
       "        text-align: right;\n",
       "    }\n",
       "</style>\n",
       "<table border=\"1\" class=\"dataframe\">\n",
       "  <thead>\n",
       "    <tr style=\"text-align: right;\">\n",
       "      <th></th>\n",
       "      <th>targets</th>\n",
       "      <th>predictions</th>\n",
       "      <th>country</th>\n",
       "    </tr>\n",
       "    <tr>\n",
       "      <th>npartitions=2</th>\n",
       "      <th></th>\n",
       "      <th></th>\n",
       "      <th></th>\n",
       "    </tr>\n",
       "  </thead>\n",
       "  <tbody>\n",
       "    <tr>\n",
       "      <th>0</th>\n",
       "      <td>int64</td>\n",
       "      <td>int64</td>\n",
       "      <td>object</td>\n",
       "    </tr>\n",
       "    <tr>\n",
       "      <th>500000</th>\n",
       "      <td>...</td>\n",
       "      <td>...</td>\n",
       "      <td>...</td>\n",
       "    </tr>\n",
       "    <tr>\n",
       "      <th>999999</th>\n",
       "      <td>...</td>\n",
       "      <td>...</td>\n",
       "      <td>...</td>\n",
       "    </tr>\n",
       "  </tbody>\n",
       "</table>\n",
       "</div>\n",
       "<div>Dask Name: from_pandas, 1 graph layer</div>"
      ],
      "text/plain": [
       "Dask DataFrame Structure:\n",
       "              targets predictions country\n",
       "npartitions=2                            \n",
       "0               int64       int64  object\n",
       "500000            ...         ...     ...\n",
       "999999            ...         ...     ...\n",
       "Dask Name: from_pandas, 1 graph layer"
      ]
     },
     "execution_count": 2,
     "metadata": {},
     "output_type": "execute_result"
    }
   ],
   "source": [
    "size = int(1e6)\n",
    "\n",
    "# Generate some random data\n",
    "targets = np.random.randint(2, size=size)\n",
    "predictions = (np.random.rand(size) > 0.5).astype(int)\n",
    "\n",
    "countries = np.random.choice([\"US\", \"UK\", \"DE\", \"FR\", \"IT\", \"NL\"], size=size)\n",
    "\n",
    "df = pd.DataFrame({\"targets\": targets, \"predictions\": predictions, \"country\": countries})\n",
    "ddf = dd.from_pandas(df, npartitions=2)\n",
    "\n",
    "ddf"
   ]
  },
  {
   "attachments": {},
   "cell_type": "markdown",
   "metadata": {},
   "source": [
    "### Implement a metric in Keras\n",
    "\n",
    "In order to use it during training we would do:\n",
    "\n",
    "```python\n",
    "model = tf.keras.Model = ...\n",
    "model.fit(data, metrics=[BinaryTruePositives()])\n",
    "```"
   ]
  },
  {
   "cell_type": "code",
   "execution_count": 3,
   "metadata": {},
   "outputs": [
    {
     "data": {
      "text/plain": [
       "<tf.Tensor: shape=(), dtype=float32, numpy=249496.0>"
      ]
     },
     "execution_count": 3,
     "metadata": {},
     "output_type": "execute_result"
    }
   ],
   "source": [
    "class BinaryTruePositives(tf.keras.metrics.Metric):\n",
    "    def __init__(self, name='binary_true_positives', **kwargs):\n",
    "        super(BinaryTruePositives, self).__init__(name=name, **kwargs)\n",
    "        self.true_positives = self.add_weight(name='tp', initializer='zeros')\n",
    "\n",
    "    def update_state(self, y_true, y_pred, sample_weight=None):\n",
    "        y_true = tf.cast(y_true, tf.bool)\n",
    "        y_pred = tf.cast(y_pred, tf.bool)\n",
    "\n",
    "        values = tf.logical_and(tf.equal(y_true, True), tf.equal(y_pred, True))\n",
    "        values = tf.cast(values, self.dtype)\n",
    "        if sample_weight is not None:\n",
    "            sample_weight = tf.cast(sample_weight, self.dtype)\n",
    "            sample_weight = tf.broadcast_to(sample_weight, values.shape)\n",
    "            values = tf.multiply(values, sample_weight)\n",
    "        self.true_positives.assign_add(tf.reduce_sum(values))\n",
    "\n",
    "    def result(self):\n",
    "        return self.true_positives\n",
    "\n",
    "\n",
    "BinaryTruePositives()(\n",
    "    cf.convert_array(targets, tf.Tensor), \n",
    "    cf.convert_array(predictions, tf.Tensor)\n",
    ")"
   ]
  },
  {
   "attachments": {},
   "cell_type": "markdown",
   "metadata": {},
   "source": [
    "### How would we use this in Dask? \n",
    "We would like to calculate binary-true-positives sliced by country.\n",
    "\n",
    "Something like this (obviously wouldn't work since we are mixing frameworks)\n",
    "\n",
    "```python\n",
    "ddf.groupby(\"country\").agg(BinaryTruePositives())\n",
    "```"
   ]
  },
  {
   "cell_type": "code",
   "execution_count": 4,
   "metadata": {},
   "outputs": [
    {
     "data": {
      "text/plain": [
       "0"
      ]
     },
     "execution_count": 4,
     "metadata": {},
     "output_type": "execute_result"
    }
   ],
   "source": [
    "ddf[\"targets\"].min().compute()"
   ]
  },
  {
   "attachments": {},
   "cell_type": "markdown",
   "metadata": {},
   "source": [
    "Dask typically does aggregations using a function called [apply_concat_apply](https://github.com/dask/dask/blob/bdb21aedecb36e755d49eadc5e3873192c975411/dask/dataframe/core.py#L6357). This a more functional approach, which lends itself well for distributed computing. \n",
    "\n",
    "![aggregator](./img/aggregator.png)\n",
    "\n",
    "Keras, on the other hand uses a more object-oriented approach where the internal state gets mutated by each update-step."
   ]
  },
  {
   "attachments": {},
   "cell_type": "markdown",
   "metadata": {},
   "source": [
    "### Aggregator\n",
    "One of the core abstractions to create metrics using crossfit is the `Aggregator`. Let's turn `BinaryTruePositives` into a `Aggregator`.\n",
    "\n",
    "```python\n",
    "class SomeAggregator(cf.Aggregator):\n",
    "    def prepare(self, data):\n",
    "        ...\n",
    "\n",
    "    def present(self, state):\n",
    "        ...\n",
    "\n",
    "```"
   ]
  },
  {
   "cell_type": "code",
   "execution_count": 5,
   "metadata": {},
   "outputs": [
    {
     "data": {
      "text/plain": [
       "0    249496.0\n",
       "dtype: float32"
      ]
     },
     "execution_count": 5,
     "metadata": {},
     "output_type": "execute_result"
    }
   ],
   "source": [
    "from crossfit.metrics import Sum\n",
    "from crossfit.backends.dask.aggregate import aggregate\n",
    "\n",
    "\n",
    "class BinaryTruePositivesAggregator(cf.Aggregator):\n",
    "    def prepare(self, targets, predictions, sample_weight=None):\n",
    "        tf_targets = cf.convert_array(targets, tf.Tensor)\n",
    "        tf_predictions = cf.convert_array(predictions, tf.Tensor)\n",
    "        if sample_weight is not None:\n",
    "            sample_weight = cf.convert_array(sample_weight, tf.Tensor)\n",
    "            \n",
    "        result = BinaryTruePositives()(tf_targets, tf_predictions, sample_weight=sample_weight)\n",
    "        \n",
    "        return Sum(sum=cf.convert_array(result, type(targets)))\n",
    "        \n",
    "\n",
    "def pre(df):\n",
    "    return df[\"targets\"], df[\"predictions\"]\n",
    "\n",
    "\n",
    "aggregator = BinaryTruePositivesAggregator(pre=pre)\n",
    "\n",
    "aggregate(ddf, aggregator).result"
   ]
  },
  {
   "attachments": {},
   "cell_type": "markdown",
   "metadata": {},
   "source": [
    "Most metrics are actually reduced using mean. We offer a shorthand for this: `from_tf_metric`."
   ]
  },
  {
   "cell_type": "code",
   "execution_count": 6,
   "metadata": {},
   "outputs": [
    {
     "data": {
      "text/html": [
       "<div>\n",
       "<style scoped>\n",
       "    .dataframe tbody tr th:only-of-type {\n",
       "        vertical-align: middle;\n",
       "    }\n",
       "\n",
       "    .dataframe tbody tr th {\n",
       "        vertical-align: top;\n",
       "    }\n",
       "\n",
       "    .dataframe thead th {\n",
       "        text-align: right;\n",
       "    }\n",
       "</style>\n",
       "<table border=\"1\" class=\"dataframe\">\n",
       "  <thead>\n",
       "    <tr style=\"text-align: right;\">\n",
       "      <th></th>\n",
       "      <th>recall</th>\n",
       "      <th>accuracy</th>\n",
       "      <th>precision</th>\n",
       "    </tr>\n",
       "  </thead>\n",
       "  <tbody>\n",
       "    <tr>\n",
       "      <th>0</th>\n",
       "      <td>0.499836</td>\n",
       "      <td>0.500154</td>\n",
       "      <td>0.49931</td>\n",
       "    </tr>\n",
       "  </tbody>\n",
       "</table>\n",
       "</div>"
      ],
      "text/plain": [
       "     recall  accuracy  precision\n",
       "0  0.499836  0.500154    0.49931"
      ]
     },
     "execution_count": 6,
     "metadata": {},
     "output_type": "execute_result"
    }
   ],
   "source": [
    "from crossfit.backends.tf import from_tf_metric\n",
    "\n",
    "acc = from_tf_metric(tf.keras.metrics.BinaryAccuracy())\n",
    "precision = from_tf_metric(tf.keras.metrics.Precision())\n",
    "recall = from_tf_metric(tf.keras.metrics.Recall())\n",
    "\n",
    "metrics = cf.Aggregator({\n",
    "    \"accuracy\": acc,\n",
    "    \"precision\": precision,\n",
    "    \"recall\": recall\n",
    "}, pre=pre)\n",
    "\n",
    "aggregate(ddf, metrics, to_frame=True)"
   ]
  },
  {
   "cell_type": "code",
   "execution_count": 7,
   "metadata": {},
   "outputs": [
    {
     "data": {
      "text/html": [
       "<div>\n",
       "<style scoped>\n",
       "    .dataframe tbody tr th:only-of-type {\n",
       "        vertical-align: middle;\n",
       "    }\n",
       "\n",
       "    .dataframe tbody tr th {\n",
       "        vertical-align: top;\n",
       "    }\n",
       "\n",
       "    .dataframe thead th {\n",
       "        text-align: right;\n",
       "    }\n",
       "</style>\n",
       "<table border=\"1\" class=\"dataframe\">\n",
       "  <thead>\n",
       "    <tr style=\"text-align: right;\">\n",
       "      <th></th>\n",
       "      <th>Aggregator.recall</th>\n",
       "      <th>Aggregator.accuracy</th>\n",
       "      <th>Aggregator.precision</th>\n",
       "    </tr>\n",
       "    <tr>\n",
       "      <th>country</th>\n",
       "      <th></th>\n",
       "      <th></th>\n",
       "      <th></th>\n",
       "    </tr>\n",
       "  </thead>\n",
       "  <tbody>\n",
       "    <tr>\n",
       "      <th>DE</th>\n",
       "      <td>0.499881</td>\n",
       "      <td>0.500244</td>\n",
       "      <td>0.499301</td>\n",
       "    </tr>\n",
       "    <tr>\n",
       "      <th>UK</th>\n",
       "      <td>0.499812</td>\n",
       "      <td>0.500127</td>\n",
       "      <td>0.499358</td>\n",
       "    </tr>\n",
       "    <tr>\n",
       "      <th>IT</th>\n",
       "      <td>0.500010</td>\n",
       "      <td>0.500129</td>\n",
       "      <td>0.499411</td>\n",
       "    </tr>\n",
       "    <tr>\n",
       "      <th>US</th>\n",
       "      <td>0.511162</td>\n",
       "      <td>0.500156</td>\n",
       "      <td>0.499365</td>\n",
       "    </tr>\n",
       "    <tr>\n",
       "      <th>NL</th>\n",
       "      <td>0.499917</td>\n",
       "      <td>0.500132</td>\n",
       "      <td>0.499283</td>\n",
       "    </tr>\n",
       "    <tr>\n",
       "      <th>FR</th>\n",
       "      <td>0.499782</td>\n",
       "      <td>0.500056</td>\n",
       "      <td>0.499333</td>\n",
       "    </tr>\n",
       "  </tbody>\n",
       "</table>\n",
       "</div>"
      ],
      "text/plain": [
       "         Aggregator.recall  Aggregator.accuracy  Aggregator.precision\n",
       "country                                                              \n",
       "DE                0.499881             0.500244              0.499301\n",
       "UK                0.499812             0.500127              0.499358\n",
       "IT                0.500010             0.500129              0.499411\n",
       "US                0.511162             0.500156              0.499365\n",
       "NL                0.499917             0.500132              0.499283\n",
       "FR                0.499782             0.500056              0.499333"
      ]
     },
     "execution_count": 7,
     "metadata": {},
     "output_type": "execute_result"
    }
   ],
   "source": [
    "aggregate(ddf, cf.Aggregator(metrics, groupby=\"country\"), to_frame=True)"
   ]
  },
  {
   "cell_type": "code",
   "execution_count": null,
   "metadata": {},
   "outputs": [],
   "source": []
  }
 ],
 "metadata": {
  "kernelspec": {
   "display_name": "cf-tf-22.12",
   "language": "python",
   "name": "python3"
  },
  "language_info": {
   "codemirror_mode": {
    "name": "ipython",
    "version": 3
   },
   "file_extension": ".py",
   "mimetype": "text/x-python",
   "name": "python",
   "nbconvert_exporter": "python",
   "pygments_lexer": "ipython3",
   "version": "3.9.15"
  },
  "orig_nbformat": 4,
  "vscode": {
   "interpreter": {
    "hash": "f69a53afb670afe87770ac1b0272e2f51f1d0d822ccd43cd0e224bf2a18e8b59"
   }
  }
 },
 "nbformat": 4,
 "nbformat_minor": 2
}
