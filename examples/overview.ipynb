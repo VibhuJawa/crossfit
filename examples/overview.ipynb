{
 "cells": [
  {
   "cell_type": "code",
   "execution_count": 5,
   "metadata": {},
   "outputs": [],
   "source": [
    "import numpy as np\n",
    "import pandas as pd\n",
    "\n",
    "import crossfit as cf\n",
    "from crossfit.core.calculate import calculate_per_col\n",
    "from crossfit.stats.continuous.stats import ContinuousStats\n",
    "from crossfit.stats.visualization import facets_overview\n",
    "\n",
    "df = pd.DataFrame({\"b\": np.random.rand(10), \"c\": np.random.rand(10)})"
   ]
  },
  {
   "cell_type": "code",
   "execution_count": 6,
   "metadata": {},
   "outputs": [
    {
     "data": {
      "text/html": [
       "\n",
       "<script\n",
       " src=\"https://cdnjs.cloudflare.com/ajax/libs/webcomponentsjs/1.3.3/webcomponents-lite.js\"></script>\n",
       "<link rel=\"import\"\n",
       " href=\"https://raw.githubusercontent.com/PAIR-code/facets/1.0.0/facets-dist/facets-jupyter.html\" >\n",
       "<facets-overview id=\"elem\"></facets-overview>\n",
       "<script>\n",
       " document.querySelector(\"#elem\").protoInput = \"CngKBGRhdGEQCho2CgFiGjEKCwgKGAEgAS0AAIA/EXiwE1Xl1ds/GYdxTpv7u9M/KRgGhTZPuLc/OR3Fh/Nz5+8/GjYKAWMaMQoLCAoYASABLQAAgD8RmRr1TUtm4z8Z1AzoAuR10j8pGGKXxswExT859g1HqkHs7z8=\";\n",
       "</script>"
      ],
      "text/plain": [
       "<crossfit.stats.visualization.facets_overview.FacetsOverview at 0x7f9f6283b400>"
      ]
     },
     "execution_count": 6,
     "metadata": {},
     "output_type": "execute_result"
    }
   ],
   "source": [
    "mf: cf.MetricFrame = calculate_per_col(df, ContinuousStats())\n",
    "overview = facets_overview.visualize(mf)\n",
    "\n",
    "overview"
   ]
  },
  {
   "cell_type": "code",
   "execution_count": null,
   "metadata": {},
   "outputs": [],
   "source": []
  }
 ],
 "metadata": {
  "kernelspec": {
   "display_name": "Python 3.8.15 ('crossfit')",
   "language": "python",
   "name": "python3"
  },
  "language_info": {
   "codemirror_mode": {
    "name": "ipython",
    "version": 3
   },
   "file_extension": ".py",
   "mimetype": "text/x-python",
   "name": "python",
   "nbconvert_exporter": "python",
   "pygments_lexer": "ipython3",
   "version": "3.8.15"
  },
  "orig_nbformat": 4,
  "vscode": {
   "interpreter": {
    "hash": "39a5002bedefd9272f4d1a666971692fe04dd538f81bbda9477d8c506ebaa6b1"
   }
  }
 },
 "nbformat": 4,
 "nbformat_minor": 2
}
