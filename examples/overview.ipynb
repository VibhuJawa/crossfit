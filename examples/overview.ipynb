{
 "cells": [
  {
   "cell_type": "code",
   "execution_count": 1,
   "metadata": {},
   "outputs": [],
   "source": [
    "import numpy as np\n",
    "import pandas as pd\n",
    "\n",
    "import crossfit as cf\n",
    "from crossfit.core.calculate import calculate_per_col\n",
    "from crossfit.stats.categorical.stats import CategoricalStats\n",
    "from crossfit.stats.continuous.stats import ContinuousStats\n",
    "from crossfit.stats.visualization import facets_overview\n",
    "\n",
    "df = pd.DataFrame({\"con_1\": np.random.rand(10), \"con_2\": np.random.rand(10), \"cat_1\": [\"foo\", \"bar\"] * 5})"
   ]
  },
  {
   "cell_type": "code",
   "execution_count": 2,
   "metadata": {},
   "outputs": [
    {
     "data": {
      "text/html": [
       "\n",
       "<script\n",
       " src=\"https://cdnjs.cloudflare.com/ajax/libs/webcomponentsjs/1.3.3/webcomponents-lite.js\"></script>\n",
       "<link rel=\"import\"\n",
       " href=\"https://raw.githubusercontent.com/PAIR-code/facets/1.0.0/facets-dist/facets-jupyter.html\" >\n",
       "<facets-overview id=\"elem\"></facets-overview>\n",
       "<script>\n",
       " document.querySelector(\"#elem\").protoInput = \"CuUBCgRkYXRhEAoaOgoFY29uXzEaMQoLCAoYASABLQAAgD8RjoXGYg3d4z8ZuGP36Zh6zD8pnAdqtzzUxz854xOttwh37z8aOgoFY29uXzIaMQoLCAoYASABLQAAgD8RxtaK5jOz2D8ZBW0wTU4G0z8pwBhgFa2amT85Bm6xx3ZK7T8aYwoFY2F0XzEiWgoLCAoYASABLQAAgD8QARoOEgNmb28ZAAAAAAAAFEAaDhIDYmFyGQAAAAAAABRAJQAAQEAqJAoOIgNmb28pAAAAAAAAFEAKEggBEAEiA2JhcikAAAAAAAAUQA==\";\n",
       "</script>"
      ],
      "text/plain": [
       "<crossfit.stats.visualization.facets_overview.FacetsOverview at 0x7ff2ff90de20>"
      ]
     },
     "execution_count": 2,
     "metadata": {},
     "output_type": "execute_result"
    }
   ],
   "source": [
    "col_cols = [\"con_1\", \"con_2\"]\n",
    "cat_cols = [\"cat_1\"]\n",
    "\n",
    "con_mf: cf.MetricFrame = calculate_per_col(df[col_cols], ContinuousStats())\n",
    "cat_mf: cf.MetricFrame = calculate_per_col(df[cat_cols], CategoricalStats())\n",
    "\n",
    "overview = facets_overview.visualize(con_mf=con_mf, cat_mf=cat_mf)\n",
    "\n",
    "overview"
   ]
  },
  {
   "cell_type": "code",
   "execution_count": null,
   "metadata": {},
   "outputs": [],
   "source": []
  }
 ],
 "metadata": {
  "kernelspec": {
   "display_name": "Python 3.8.15 ('crossfit')",
   "language": "python",
   "name": "python3"
  },
  "language_info": {
   "codemirror_mode": {
    "name": "ipython",
    "version": 3
   },
   "file_extension": ".py",
   "mimetype": "text/x-python",
   "name": "python",
   "nbconvert_exporter": "python",
   "pygments_lexer": "ipython3",
   "version": "3.8.15"
  },
  "orig_nbformat": 4,
  "vscode": {
   "interpreter": {
    "hash": "39a5002bedefd9272f4d1a666971692fe04dd538f81bbda9477d8c506ebaa6b1"
   }
  }
 },
 "nbformat": 4,
 "nbformat_minor": 2
}
