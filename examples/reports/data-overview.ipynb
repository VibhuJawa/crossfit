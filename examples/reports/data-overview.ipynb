{
 "cells": [
  {
   "cell_type": "code",
   "execution_count": 1,
   "metadata": {},
   "outputs": [],
   "source": [
    "import os\n",
    "os.environ['TF_CPP_MIN_LOG_LEVEL'] = '3'\n",
    "\n",
    "import warnings\n",
    "warnings.filterwarnings(\"ignore\")\n",
    "\n",
    "import numpy as np\n",
    "import pandas as pd\n",
    "import dask.dataframe as dd\n",
    "\n",
    "import crossfit as cf\n",
    "from crossfit.reports import data_overview_report"
   ]
  },
  {
   "attachments": {},
   "cell_type": "markdown",
   "metadata": {},
   "source": [
    "### Generate some random data"
   ]
  },
  {
   "cell_type": "code",
   "execution_count": 2,
   "metadata": {},
   "outputs": [],
   "source": [
    "size = int(1e5)\n",
    "df = pd.DataFrame({\n",
    "    \"split\": [\"train\", \"test\"] * int(size/2), \n",
    "    \"con_1\": np.random.rand(size), \n",
    "    \"cat_1\": [\"foo\", \"bar\"] * int(size/2)\n",
    "})\n",
    "\n",
    "ddf = dd.from_pandas(df, npartitions=2)"
   ]
  },
  {
   "attachments": {},
   "cell_type": "markdown",
   "metadata": {},
   "source": [
    "### Data-overview"
   ]
  },
  {
   "cell_type": "code",
   "execution_count": 3,
   "metadata": {},
   "outputs": [
    {
     "data": {
      "text/html": [
       "\n",
       "<script\n",
       " src=\"https://cdnjs.cloudflare.com/ajax/libs/webcomponentsjs/1.3.3/webcomponents-lite.js\"></script>\n",
       "<link rel=\"import\"\n",
       " href=\"https://raw.githubusercontent.com/PAIR-code/facets/1.0.0/facets-dist/facets-jupyter.html\" >\n",
       "<facets-overview id=\"elem\"></facets-overview>\n",
       "<script>\n",
       " document.querySelector(\"#elem\").protoInput = \"CpMCCgRkYXRhEKCNBhozCgVjb25fMRoqCg0IoI0GGAEgAS0AAIA/ETwx07RPA+A/GZOwxecig9I/OYjHHxXD/+8/GmUKBWNhdF8xIlwKDQigjQYYASABLQAAgD8QAhoOEgNiYXIZAAAAAABq6EAaDhIDZm9vGQAAAAAAauhAJQAAQEAqJAoOIgNiYXIpAAAAAABq6EAKEggBEAEiA2ZvbykAAAAAAGroQBprCgVzcGxpdCJiCg0IoI0GGAEgAS0AAIA/EAIaDxIEdGVzdBkAAAAAAGroQBoQEgV0cmFpbhkAAAAAAGroQCUAAJBAKicKDyIEdGVzdCkAAAAAAGroQAoUCAEQASIFdHJhaW4pAAAAAABq6EA=\";\n",
       "</script>"
      ],
      "text/plain": [
       "<crossfit.reports.data_overview.visualization.facets.FacetsOverview at 0x7efb40ff9d30>"
      ]
     },
     "execution_count": 3,
     "metadata": {},
     "output_type": "execute_result"
    }
   ],
   "source": [
    "data_overview = data_overview_report(ddf, groupby=\"split\")\n",
    "\n",
    "data_overview.visualize()"
   ]
  },
  {
   "cell_type": "code",
   "execution_count": null,
   "metadata": {},
   "outputs": [],
   "source": []
  }
 ],
 "metadata": {
  "kernelspec": {
   "display_name": "cf-tf-22.12",
   "language": "python",
   "name": "python3"
  },
  "language_info": {
   "codemirror_mode": {
    "name": "ipython",
    "version": 3
   },
   "file_extension": ".py",
   "mimetype": "text/x-python",
   "name": "python",
   "nbconvert_exporter": "python",
   "pygments_lexer": "ipython3",
   "version": "3.9.15"
  },
  "orig_nbformat": 4,
  "vscode": {
   "interpreter": {
    "hash": "f69a53afb670afe87770ac1b0272e2f51f1d0d822ccd43cd0e224bf2a18e8b59"
   }
  }
 },
 "nbformat": 4,
 "nbformat_minor": 2
}
