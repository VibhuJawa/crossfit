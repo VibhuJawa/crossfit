{
 "cells": [
  {
   "cell_type": "code",
   "execution_count": 1,
   "metadata": {},
   "outputs": [],
   "source": [
    "import crossfit as cf"
   ]
  },
  {
   "cell_type": "code",
   "execution_count": 2,
   "metadata": {},
   "outputs": [],
   "source": [
    "torch_mem = 30\n",
    "dataset = \"quora\"\n",
    "vector_search = cf.TorchExactSearch(k=100)\n",
    "model = cf.SentenceTransformerModel(\"all-MiniLM-L6-v2\", max_mem_gb=torch_mem)"
   ]
  },
  {
   "cell_type": "code",
   "execution_count": 3,
   "metadata": {},
   "outputs": [
    {
     "name": "stderr",
     "output_type": "stream",
     "text": [
      "2023-10-12 12:15:24,106 - distributed.diskutils - INFO - Found stale lock file and directory '/tmp/dask-worker-space/worker-i282f1gm', purging\n",
      "2023-10-12 12:15:24,106 - distributed.diskutils - INFO - Found stale lock file and directory '/tmp/dask-worker-space/worker-otwrsuxk', purging\n",
      "2023-10-12 12:15:24,106 - distributed.preloading - INFO - Creating preload: dask_cuda.initialize\n",
      "2023-10-12 12:15:24,106 - distributed.preloading - INFO - Import preload module: dask_cuda.initialize\n",
      "2023-10-12 12:15:24,107 - distributed.preloading - INFO - Creating preload: dask_cuda.initialize\n",
      "2023-10-12 12:15:24,108 - distributed.preloading - INFO - Import preload module: dask_cuda.initialize\n"
     ]
    },
    {
     "name": "stdout",
     "output_type": "stream",
     "text": [
      "Deployed LocalCUDACluster(5ee21cd0, 'tcp://127.0.0.1:45205', workers=2, threads=2, memory=125.64 GiB)...\n",
      "Output directory /workspaces/data/beir/raw/quora already exists. Skipping download.\n",
      "Processed directory /workspaces/data/beir/processed/quora already exists. Overwriting.\n",
      "Converting queries...\n",
      "Converting corpus...\n",
      "Processing test.tsv...\n",
      "Processing dev.tsv...\n",
      "Embedding directory /workspaces/data/beir/processed/beir/quora/emb/all-MiniLM-L6-v2 already exists. Overwriting.\n",
      "Embedding quora query (2 parts)...\n"
     ]
    },
    {
     "name": "stderr",
     "output_type": "stream",
     "text": [
      "\n",
      "GPU: 0, Part: 1:   0%|          | 0/7500 [00:00<?, ?it/s]\u001b[A\n",
      "GPU: 1, Part: 0:  41%|████      | 3072/7500 [00:00<00:01, 3521.92it/s]\u001b[A\n",
      "GPU: 1, Part: 0:  68%|██████▊   | 5120/7500 [00:01<00:00, 5533.35it/s]\u001b[A\n",
      "GPU: 1, Part: 0: 100%|██████████| 7500/7500 [00:01<00:00, 4062.88it/s]\u001b[A\n",
      "GPU: 0, Part: 1: 100%|██████████| 7500/7500 [00:01<00:00, 4111.37it/s]\n"
     ]
    },
    {
     "name": "stdout",
     "output_type": "stream",
     "text": [
      "Embedding quora item (10 parts)...\n"
     ]
    },
    {
     "name": "stderr",
     "output_type": "stream",
     "text": [
      "\n",
      "GPU: 0, Part: 0:   0%|          | 0/52293 [00:00<?, ?it/s]\u001b[A\n",
      "GPU: 1, Part: 3:   6%|▌         | 3072/52293 [00:00<00:04, 10184.64it/s]\u001b[A\n",
      "GPU: 0, Part: 0:   6%|▌         | 3072/52293 [00:00<00:04, 10005.12it/s]\u001b[A\n",
      "GPU: 0, Part: 0:  10%|▉         | 5120/52293 [00:00<00:04, 11661.00it/s]\u001b[A\n",
      "GPU: 0, Part: 0:  18%|█▊        | 9216/52293 [00:00<00:03, 12280.44it/s]\u001b[A\n",
      "GPU: 0, Part: 0:  22%|██▏       | 11264/52293 [00:00<00:03, 12856.37it/s]\u001b[A\n",
      "GPU: 0, Part: 0:  29%|██▉       | 15360/52293 [00:01<00:02, 13372.50it/s]\u001b[A\n",
      "GPU: 0, Part: 0:  33%|███▎      | 17408/52293 [00:01<00:02, 13505.95it/s]\u001b[A\n",
      "GPU: 0, Part: 0:  37%|███▋      | 19456/52293 [00:01<00:02, 13694.25it/s]\u001b[A\n",
      "GPU: 0, Part: 0:  41%|████      | 21504/52293 [00:01<00:02, 13854.79it/s]\u001b[A\n",
      "GPU: 0, Part: 0:  45%|████▌     | 23552/52293 [00:01<00:02, 13737.44it/s]\u001b[A\n",
      "GPU: 0, Part: 0:  49%|████▉     | 25600/52293 [00:01<00:01, 13924.82it/s]\u001b[A\n",
      "GPU: 0, Part: 0:  53%|█████▎    | 27648/52293 [00:02<00:01, 13769.38it/s]\u001b[A\n",
      "GPU: 0, Part: 0:  57%|█████▋    | 29696/52293 [00:02<00:01, 13725.32it/s]\u001b[A\n",
      "GPU: 1, Part: 3:  57%|█████▋    | 29696/52293 [00:02<00:01, 13332.99it/s]\u001b[A\n",
      "GPU: 0, Part: 0:  61%|██████    | 31744/52293 [00:02<00:01, 11348.86it/s]\u001b[A\n",
      "GPU: 0, Part: 0:  65%|██████▍   | 33792/52293 [00:02<00:01, 10789.64it/s]\u001b[A\n",
      "GPU: 0, Part: 0:  69%|██████▊   | 35840/52293 [00:02<00:01, 11598.14it/s]\u001b[A\n",
      "GPU: 0, Part: 0:  72%|███████▏  | 37888/52293 [00:03<00:01, 12266.07it/s]\u001b[A\n",
      "GPU: 0, Part: 0:  76%|███████▋  | 39936/52293 [00:03<00:00, 12782.71it/s]\u001b[A\n",
      "GPU: 0, Part: 0:  80%|████████  | 41984/52293 [00:03<00:00, 13126.37it/s]\u001b[A\n",
      "GPU: 0, Part: 0:  84%|████████▍ | 44032/52293 [00:03<00:00, 13199.11it/s]\u001b[A\n",
      "GPU: 0, Part: 0:  88%|████████▊ | 46080/52293 [00:03<00:00, 13291.87it/s]\u001b[A\n",
      "GPU: 0, Part: 0:  92%|█████████▏| 48128/52293 [00:03<00:00, 13473.88it/s]\u001b[A\n",
      "GPU: 1, Part: 3:  96%|█████████▌| 50176/52293 [00:03<00:00, 13888.94it/s]\u001b[A\n",
      "GPU: 1, Part: 3: 100%|██████████| 52293/52293 [00:04<00:00, 12048.78it/s]\u001b[A\n",
      "GPU: 0, Part: 0: 100%|██████████| 52293/52293 [00:04<00:00, 11956.48it/s]\n",
      "\n",
      "GPU: 0, Part: 2:   0%|          | 0/52293 [00:00<?, ?it/s]\u001b[A\n",
      "GPU: 0, Part: 2:   6%|▌         | 3072/52293 [00:00<00:04, 10109.60it/s][A\n",
      "GPU: 1, Part: 1:  10%|▉         | 5120/52293 [00:00<00:05, 8218.45it/s]\u001b[A\n",
      "GPU: 0, Part: 2:  10%|▉         | 5120/52293 [00:00<00:05, 9337.13it/s] [A\n",
      "GPU: 0, Part: 2:  14%|█▎        | 7168/52293 [00:00<00:04, 10809.23it/s]\u001b[A\n",
      "GPU: 0, Part: 2:  18%|█▊        | 9216/52293 [00:00<00:03, 11510.74it/s]]\u001b[A\n",
      "GPU: 0, Part: 2:  22%|██▏       | 11264/52293 [00:01<00:03, 12030.83it/s]\u001b[A\n",
      "GPU: 0, Part: 2:  25%|██▌       | 13312/52293 [00:01<00:03, 12793.55it/s]\u001b[A\n",
      "GPU: 0, Part: 2:  29%|██▉       | 15360/52293 [00:01<00:02, 13226.09it/s]\u001b[A\n",
      "GPU: 0, Part: 2:  37%|███▋      | 19456/52293 [00:01<00:02, 13582.76it/s]\u001b[A\n",
      "GPU: 1, Part: 1:  41%|████      | 21504/52293 [00:01<00:02, 12595.28it/s]\u001b[A\n",
      "GPU: 1, Part: 1:  45%|████▌     | 23552/52293 [00:02<00:02, 12897.90it/s]\u001b[A\n",
      "GPU: 0, Part: 2:  45%|████▌     | 23552/52293 [00:02<00:02, 10895.58it/s]\u001b[A\n",
      "GPU: 0, Part: 2:  49%|████▉     | 25600/52293 [00:02<00:02, 11769.71it/s]\u001b[A\n",
      "GPU: 0, Part: 2:  53%|█████▎    | 27648/52293 [00:02<00:01, 12326.12it/s]\u001b[A\n",
      "GPU: 0, Part: 2:  57%|█████▋    | 29696/52293 [00:02<00:01, 12722.21it/s]\u001b[A\n",
      "GPU: 0, Part: 2:  61%|██████    | 31744/52293 [00:02<00:01, 12973.77it/s]\u001b[A\n",
      "GPU: 0, Part: 2:  65%|██████▍   | 33792/52293 [00:02<00:01, 13191.30it/s]\u001b[A\n",
      "GPU: 0, Part: 2:  69%|██████▊   | 35840/52293 [00:02<00:01, 13425.31it/s]\u001b[A\n",
      "GPU: 0, Part: 2:  72%|███████▏  | 37888/52293 [00:03<00:01, 13607.77it/s]\u001b[A\n",
      "GPU: 0, Part: 2:  76%|███████▋  | 39936/52293 [00:03<00:00, 13623.33it/s]\u001b[A\n",
      "GPU: 0, Part: 2:  80%|████████  | 41984/52293 [00:03<00:00, 12996.39it/s]\u001b[A\n",
      "GPU: 0, Part: 2:  84%|████████▍ | 44032/52293 [00:03<00:00, 13233.12it/s]\u001b[A\n",
      "GPU: 0, Part: 2:  88%|████████▊ | 46080/52293 [00:03<00:00, 13390.56it/s]\u001b[A\n",
      "GPU: 0, Part: 2:  92%|█████████▏| 48128/52293 [00:03<00:00, 13581.73it/s]\u001b[A\n",
      "GPU: 1, Part: 1: 100%|██████████| 52293/52293 [00:04<00:00, 11279.79it/s]\u001b[A\n",
      "GPU: 0, Part: 2: 100%|██████████| 52293/52293 [00:04<00:00, 11692.79it/s]\n",
      "\n",
      "GPU: 0, Part: 5:   6%|▌         | 3072/52293 [00:00<00:04, 10351.51it/s]\n",
      "GPU: 0, Part: 5:  10%|▉         | 5120/52293 [00:00<00:03, 11892.00it/s]\u001b[A\n",
      "GPU: 1, Part: 4:  10%|▉         | 5120/52293 [00:00<00:04, 11735.00it/s]\u001b[A\n",
      "GPU: 0, Part: 5:  14%|█▎        | 7168/52293 [00:00<00:03, 12648.61it/s]\u001b[A\n",
      "GPU: 0, Part: 5:  22%|██▏       | 11264/52293 [00:00<00:03, 13415.37it/s][A\n",
      "GPU: 1, Part: 4:  22%|██▏       | 11264/52293 [00:00<00:03, 13369.02it/s]\u001b[A\n",
      "GPU: 0, Part: 5:  25%|██▌       | 13312/52293 [00:01<00:02, 13552.64it/s]\u001b[A\n",
      "GPU: 0, Part: 5:  29%|██▉       | 15360/52293 [00:01<00:02, 13334.27it/s]\u001b[A\n",
      "GPU: 0, Part: 5:  33%|███▎      | 17408/52293 [00:01<00:02, 13316.69it/s]\u001b[A\n",
      "GPU: 0, Part: 5:  37%|███▋      | 19456/52293 [00:01<00:02, 13472.38it/s]\u001b[A\n",
      "GPU: 0, Part: 5:  41%|████      | 21504/52293 [00:01<00:02, 13408.96it/s]\u001b[A\n",
      "GPU: 0, Part: 5:  45%|████▌     | 23552/52293 [00:01<00:02, 13563.73it/s]\u001b[A\n",
      "GPU: 0, Part: 5:  49%|████▉     | 25600/52293 [00:01<00:01, 13700.49it/s]\u001b[A\n",
      "GPU: 0, Part: 5:  53%|█████▎    | 27648/52293 [00:02<00:01, 13768.35it/s]\u001b[A\n",
      "GPU: 0, Part: 5:  57%|█████▋    | 29696/52293 [00:02<00:01, 13692.48it/s]\u001b[A\n",
      "GPU: 0, Part: 5:  61%|██████    | 31744/52293 [00:02<00:01, 10791.23it/s]\u001b[A\n",
      "GPU: 0, Part: 5:  65%|██████▍   | 33792/52293 [00:02<00:01, 11539.15it/s]\u001b[A\n",
      "GPU: 0, Part: 5:  72%|███████▏  | 37888/52293 [00:02<00:01, 12736.73it/s]\u001b[A\n",
      "GPU: 1, Part: 4:  72%|███████▏  | 37888/52293 [00:02<00:01, 12282.53it/s]\u001b[A\n",
      "GPU: 0, Part: 5:  76%|███████▋  | 39936/52293 [00:03<00:00, 13064.60it/s]\u001b[A\n",
      "GPU: 0, Part: 5:  80%|████████  | 41984/52293 [00:03<00:01, 8707.55it/s] \u001b[A\n",
      "GPU: 0, Part: 5:  92%|█████████▏| 48128/52293 [00:03<00:00, 11607.16it/s]\u001b[A\n",
      "GPU: 0, Part: 5:  96%|█████████▌| 50176/52293 [00:04<00:00, 12185.12it/s]\u001b[A\n",
      "GPU: 0, Part: 5: 100%|█████████▉| 52224/52293 [00:04<00:00, 12662.32it/s][A\n",
      "GPU: 1, Part: 4:  96%|█████████▌| 50176/52293 [00:04<00:00, 10361.16it/s]\u001b[A\n",
      "GPU: 0, Part: 5: 100%|██████████| 52293/52293 [00:04<00:00, 11464.87it/s]\u001b[A\n",
      "GPU: 1, Part: 4: 100%|██████████| 52293/52293 [00:04<00:00, 11051.08it/s]\n",
      "GPU: 0, Part: 7:   0%|          | 0/52293 [00:00<?, ?it/s]\n",
      "GPU: 0, Part: 7:  10%|▉         | 5120/52293 [00:00<00:04, 11224.72it/s]\n",
      "GPU: 0, Part: 7:  14%|█▎        | 7168/52293 [00:00<00:03, 12149.93it/s][A\n",
      "GPU: 0, Part: 7:  18%|█▊        | 9216/52293 [00:00<00:03, 12723.52it/s]\u001b[A\n",
      "GPU: 0, Part: 7:  22%|██▏       | 11264/52293 [00:00<00:03, 13147.47it/s][A\n",
      "GPU: 0, Part: 7:  25%|██▌       | 13312/52293 [00:01<00:02, 13580.16it/s][A\n",
      "GPU: 0, Part: 7:  29%|██▉       | 15360/52293 [00:01<00:02, 13569.54it/s]\u001b[A\n",
      "GPU: 0, Part: 7:  33%|███▎      | 17408/52293 [00:01<00:02, 13638.04it/s]\u001b[A\n",
      "GPU: 0, Part: 7:  41%|████      | 21504/52293 [00:01<00:02, 13842.90it/s]\u001b[A\n",
      "GPU: 0, Part: 7:  45%|████▌     | 23552/52293 [00:01<00:02, 13926.29it/s]\u001b[A\n",
      "GPU: 0, Part: 7:  49%|████▉     | 25600/52293 [00:01<00:01, 13907.12it/s]\u001b[A\n",
      "GPU: 0, Part: 7:  53%|█████▎    | 27648/52293 [00:02<00:01, 13916.75it/s]\u001b[A\n",
      "GPU: 0, Part: 7:  57%|█████▋    | 29696/52293 [00:02<00:01, 13312.14it/s]\u001b[A\n",
      "GPU: 0, Part: 7:  61%|██████    | 31744/52293 [00:02<00:01, 13590.97it/s]\u001b[A\n",
      "GPU: 0, Part: 7:  65%|██████▍   | 33792/52293 [00:02<00:01, 13546.91it/s]\u001b[A\n",
      "GPU: 0, Part: 7:  69%|██████▊   | 35840/52293 [00:02<00:01, 13523.53it/s]\u001b[A\n",
      "GPU: 0, Part: 7:  72%|███████▏  | 37888/52293 [00:02<00:01, 13666.64it/s]\u001b[A\n",
      "GPU: 0, Part: 7:  76%|███████▋  | 39936/52293 [00:02<00:00, 13738.23it/s]\u001b[A\n",
      "GPU: 0, Part: 7:  80%|████████  | 41984/52293 [00:03<00:00, 13537.06it/s]\u001b[A\n",
      "GPU: 0, Part: 7:  84%|████████▍ | 44032/52293 [00:03<00:00, 13648.22it/s]\u001b[A\n",
      "GPU: 0, Part: 7:  88%|████████▊ | 46080/52293 [00:03<00:00, 13778.62it/s]\u001b[A\n",
      "GPU: 0, Part: 7:  92%|█████████▏| 48128/52293 [00:03<00:00, 13660.91it/s]\u001b[A\n",
      "GPU: 0, Part: 7:  96%|█████████▌| 50176/52293 [00:03<00:00, 13700.18it/s]\u001b[A\n",
      "GPU: 0, Part: 7: 100%|█████████▉| 52224/52293 [00:03<00:00, 13588.22it/s]\u001b[A\n",
      "GPU: 1, Part: 6:  92%|█████████▏| 48128/52293 [00:03<00:00, 13585.14it/s]\u001b[A\n",
      "GPU: 0, Part: 7: 100%|██████████| 52293/52293 [00:04<00:00, 12462.14it/s]\u001b[A\n",
      "\n",
      "GPU: 1, Part: 6: 100%|██████████| 52293/52293 [00:04<00:00, 11968.77it/s]\u001b[A\n",
      "GPU: 0, Part: 8:   6%|▌         | 3072/52293 [00:00<00:04, 10158.73it/s]\n",
      "GPU: 0, Part: 8:  14%|█▎        | 7168/52293 [00:00<00:03, 12395.58it/s]\n",
      "GPU: 0, Part: 8:  18%|█▊        | 9216/52293 [00:00<00:03, 12816.72it/s][A\n",
      "GPU: 0, Part: 8:  22%|██▏       | 11264/52293 [00:00<00:03, 13083.06it/s][A\n",
      "GPU: 0, Part: 8:  25%|██▌       | 13312/52293 [00:01<00:02, 13336.00it/s][A\n",
      "GPU: 0, Part: 8:  33%|███▎      | 17408/52293 [00:01<00:02, 13740.86it/s][A\n",
      "GPU: 0, Part: 8:  37%|███▋      | 19456/52293 [00:01<00:02, 13717.36it/s]\u001b[A\n",
      "GPU: 0, Part: 8:  41%|████      | 21504/52293 [00:01<00:02, 13857.63it/s]\u001b[A\n",
      "GPU: 0, Part: 8:  45%|████▌     | 23552/52293 [00:01<00:02, 13998.54it/s]\u001b[A\n",
      "GPU: 0, Part: 8:  49%|████▉     | 25600/52293 [00:01<00:01, 13760.71it/s]\u001b[A\n",
      "GPU: 0, Part: 8:  53%|█████▎    | 27648/52293 [00:02<00:01, 13648.05it/s]\u001b[A\n",
      "GPU: 0, Part: 8:  57%|█████▋    | 29696/52293 [00:02<00:01, 13702.14it/s]\u001b[A\n",
      "GPU: 0, Part: 8:  61%|██████    | 31744/52293 [00:02<00:01, 13702.38it/s]\u001b[A\n",
      "GPU: 0, Part: 8:  65%|██████▍   | 33792/52293 [00:02<00:01, 13813.39it/s]\u001b[A\n",
      "GPU: 0, Part: 8:  69%|██████▊   | 35840/52293 [00:02<00:01, 13877.99it/s]\u001b[A\n",
      "GPU: 0, Part: 8:  72%|███████▏  | 37888/52293 [00:02<00:01, 13843.59it/s]\u001b[A\n",
      "GPU: 0, Part: 8:  76%|███████▋  | 39936/52293 [00:02<00:00, 13944.66it/s]\u001b[A\n",
      "GPU: 0, Part: 8:  80%|████████  | 41984/52293 [00:03<00:00, 13949.19it/s]\u001b[A\n",
      "GPU: 0, Part: 8:  84%|████████▍ | 44032/52293 [00:03<00:00, 13861.55it/s]\u001b[A\n",
      "GPU: 0, Part: 8:  88%|████████▊ | 46080/52293 [00:03<00:00, 13907.04it/s]\u001b[A\n",
      "GPU: 0, Part: 8:  92%|█████████▏| 48128/52293 [00:03<00:00, 13916.11it/s]\u001b[A\n",
      "GPU: 0, Part: 8:  96%|█████████▌| 50176/52293 [00:03<00:00, 13896.79it/s]\u001b[A\n",
      "GPU: 0, Part: 8: 100%|█████████▉| 52224/52293 [00:03<00:00, 14021.93it/s]\u001b[A\n",
      "GPU: 0, Part: 8: 100%|██████████| 52293/52293 [00:04<00:00, 12608.68it/s]\u001b[A\n",
      "\n",
      "GPU: 1, Part: 9:  92%|█████████▏| 48128/52294 [00:03<00:00, 12775.88it/s]\u001b[A\n",
      "GPU: 1, Part: 9:  96%|█████████▌| 50176/52294 [00:03<00:00, 13136.05it/s]\u001b[A\n",
      "GPU: 1, Part: 9: 100%|██████████| 52294/52294 [00:04<00:00, 11814.52it/s]\u001b[A\n"
     ]
    },
    {
     "name": "stdout",
     "output_type": "stream",
     "text": [
      "Doing vector search: TorchExactSearch...\n",
      "Joining predictions...\n"
     ]
    },
    {
     "data": {
      "text/html": [
       "<pre style=\"white-space:pre;overflow-x:auto;line-height:normal;font-family:Menlo,'DejaVu Sans Mono',consolas,'Courier New',monospace\">                          Recall@<span style=\"color: #008080; text-decoration-color: #008080; font-weight: bold\">5</span>           Recall@<span style=\"color: #008080; text-decoration-color: #008080; font-weight: bold\">10</span>            Recall@<span style=\"color: #008080; text-decoration-color: #008080; font-weight: bold\">3</span>  \\\n",
       "grouping group                                                               \n",
       "split    test   <span style=\"color: #008080; text-decoration-color: #008080; font-weight: bold\">0.8584953866448214</span>   <span style=\"color: #008080; text-decoration-color: #008080; font-weight: bold\">0.889636071519568</span>   <span style=\"color: #008080; text-decoration-color: #008080; font-weight: bold\">0.818167260890855</span>   \n",
       "         val    <span style=\"color: #008080; text-decoration-color: #008080; font-weight: bold\">0.8609643664342195</span>  <span style=\"color: #008080; text-decoration-color: #008080; font-weight: bold\">0.8907103145384025</span>  <span style=\"color: #008080; text-decoration-color: #008080; font-weight: bold\">0.8237463679784268</span>   \n",
       "\n",
       "                           NDCG@<span style=\"color: #008080; text-decoration-color: #008080; font-weight: bold\">10</span>         Precision@<span style=\"color: #008080; text-decoration-color: #008080; font-weight: bold\">10</span>              NDCG@<span style=\"color: #008080; text-decoration-color: #008080; font-weight: bold\">3</span>  \\\n",
       "grouping group                                                                \n",
       "split    test    <span style=\"color: #008080; text-decoration-color: #008080; font-weight: bold\">0.875286193252386</span>  <span style=\"color: #008080; text-decoration-color: #008080; font-weight: bold\">0.11173000000000002</span>   <span style=\"color: #008080; text-decoration-color: #008080; font-weight: bold\">0.837930511374883</span>   \n",
       "         val    <span style=\"color: #008080; text-decoration-color: #008080; font-weight: bold\">0.8741040897764475</span>  <span style=\"color: #008080; text-decoration-color: #008080; font-weight: bold\">0.11175999999999998</span>  <span style=\"color: #008080; text-decoration-color: #008080; font-weight: bold\">0.8394773399331414</span>   \n",
       "\n",
       "                          Recall@<span style=\"color: #008080; text-decoration-color: #008080; font-weight: bold\">1</span>          Precision@<span style=\"color: #008080; text-decoration-color: #008080; font-weight: bold\">5</span>  NDCG@<span style=\"color: #008080; text-decoration-color: #008080; font-weight: bold\">1</span>  \\\n",
       "grouping group                                                    \n",
       "split    test   <span style=\"color: #008080; text-decoration-color: #008080; font-weight: bold\">0.6779471963012478</span>  <span style=\"color: #008080; text-decoration-color: #008080; font-weight: bold\">0.21001999999999998</span>  <span style=\"color: #008080; text-decoration-color: #008080; font-weight: bold\">0.7484</span>   \n",
       "         val    <span style=\"color: #008080; text-decoration-color: #008080; font-weight: bold\">0.6778875865800864</span>  <span style=\"color: #008080; text-decoration-color: #008080; font-weight: bold\">0.21083999999999997</span>  <span style=\"color: #008080; text-decoration-color: #008080; font-weight: bold\">0.7502</span>   \n",
       "\n",
       "                            NDCG@<span style=\"color: #008080; text-decoration-color: #008080; font-weight: bold\">5</span> Precision@<span style=\"color: #008080; text-decoration-color: #008080; font-weight: bold\">1</span>         Precision@<span style=\"color: #008080; text-decoration-color: #008080; font-weight: bold\">3</span>  \n",
       "grouping group                                                      \n",
       "split    test   <span style=\"color: #008080; text-decoration-color: #008080; font-weight: bold\">0.8599298416853086</span>      <span style=\"color: #008080; text-decoration-color: #008080; font-weight: bold\">0.7484</span>              <span style=\"color: #008080; text-decoration-color: #008080; font-weight: bold\">0.3252</span>  \n",
       "         val    <span style=\"color: #008080; text-decoration-color: #008080; font-weight: bold\">0.8594035811792401</span>      <span style=\"color: #008080; text-decoration-color: #008080; font-weight: bold\">0.7502</span>  <span style=\"color: #008080; text-decoration-color: #008080; font-weight: bold\">0.3280666666666666</span>  \n",
       "</pre>\n"
      ],
      "text/plain": [
       "                          Recall@\u001b[1;36m5\u001b[0m           Recall@\u001b[1;36m10\u001b[0m            Recall@\u001b[1;36m3\u001b[0m  \\\n",
       "grouping group                                                               \n",
       "split    test   \u001b[1;36m0.8584953866448214\u001b[0m   \u001b[1;36m0.889636071519568\u001b[0m   \u001b[1;36m0.818167260890855\u001b[0m   \n",
       "         val    \u001b[1;36m0.8609643664342195\u001b[0m  \u001b[1;36m0.8907103145384025\u001b[0m  \u001b[1;36m0.8237463679784268\u001b[0m   \n",
       "\n",
       "                           NDCG@\u001b[1;36m10\u001b[0m         Precision@\u001b[1;36m10\u001b[0m              NDCG@\u001b[1;36m3\u001b[0m  \\\n",
       "grouping group                                                                \n",
       "split    test    \u001b[1;36m0.875286193252386\u001b[0m  \u001b[1;36m0.11173000000000002\u001b[0m   \u001b[1;36m0.837930511374883\u001b[0m   \n",
       "         val    \u001b[1;36m0.8741040897764475\u001b[0m  \u001b[1;36m0.11175999999999998\u001b[0m  \u001b[1;36m0.8394773399331414\u001b[0m   \n",
       "\n",
       "                          Recall@\u001b[1;36m1\u001b[0m          Precision@\u001b[1;36m5\u001b[0m  NDCG@\u001b[1;36m1\u001b[0m  \\\n",
       "grouping group                                                    \n",
       "split    test   \u001b[1;36m0.6779471963012478\u001b[0m  \u001b[1;36m0.21001999999999998\u001b[0m  \u001b[1;36m0.7484\u001b[0m   \n",
       "         val    \u001b[1;36m0.6778875865800864\u001b[0m  \u001b[1;36m0.21083999999999997\u001b[0m  \u001b[1;36m0.7502\u001b[0m   \n",
       "\n",
       "                            NDCG@\u001b[1;36m5\u001b[0m Precision@\u001b[1;36m1\u001b[0m         Precision@\u001b[1;36m3\u001b[0m  \n",
       "grouping group                                                      \n",
       "split    test   \u001b[1;36m0.8599298416853086\u001b[0m      \u001b[1;36m0.7484\u001b[0m              \u001b[1;36m0.3252\u001b[0m  \n",
       "         val    \u001b[1;36m0.8594035811792401\u001b[0m      \u001b[1;36m0.7502\u001b[0m  \u001b[1;36m0.3280666666666666\u001b[0m  \n"
      ]
     },
     "metadata": {},
     "output_type": "display_data"
    },
    {
     "data": {
      "text/html": [
       "<pre style=\"white-space:pre;overflow-x:auto;line-height:normal;font-family:Menlo,'DejaVu Sans Mono',consolas,'Courier New',monospace\"><span style=\"color: #00ff00; text-decoration-color: #00ff00\">─────────────────────────────────────────────────── </span>split: test<span style=\"color: #00ff00; text-decoration-color: #00ff00\"> ───────────────────────────────────────────────────</span>\n",
       "</pre>\n"
      ],
      "text/plain": [
       "\u001b[92m─────────────────────────────────────────────────── \u001b[0msplit: test\u001b[92m ───────────────────────────────────────────────────\u001b[0m\n"
      ]
     },
     "metadata": {},
     "output_type": "display_data"
    },
    {
     "data": {
      "text/html": [
       "<pre style=\"white-space:pre;overflow-x:auto;line-height:normal;font-family:Menlo,'DejaVu Sans Mono',consolas,'Courier New',monospace\">┏━━━━━━━━━━━━━━━━━━━━┳━━━━━━━━━━━━━━━━━━━┳━━━━━━━━━━━━━━━━━━━━┳━━━━━━━━━━━━━━━━━━━┓\n",
       "┃<span style=\"color: #800080; text-decoration-color: #800080; font-weight: bold\"> Recall@1           </span>┃<span style=\"color: #800080; text-decoration-color: #800080; font-weight: bold\"> Recall@3          </span>┃<span style=\"color: #800080; text-decoration-color: #800080; font-weight: bold\"> Recall@5           </span>┃<span style=\"color: #800080; text-decoration-color: #800080; font-weight: bold\"> Recall@10         </span>┃\n",
       "┡━━━━━━━━━━━━━━━━━━━━╇━━━━━━━━━━━━━━━━━━━╇━━━━━━━━━━━━━━━━━━━━╇━━━━━━━━━━━━━━━━━━━┩\n",
       "│ 0.6779471963012478 │ 0.818167260890855 │ 0.8584953866448214 │ 0.889636071519568 │\n",
       "└────────────────────┴───────────────────┴────────────────────┴───────────────────┘\n",
       "</pre>\n"
      ],
      "text/plain": [
       "┏━━━━━━━━━━━━━━━━━━━━┳━━━━━━━━━━━━━━━━━━━┳━━━━━━━━━━━━━━━━━━━━┳━━━━━━━━━━━━━━━━━━━┓\n",
       "┃\u001b[1;35m \u001b[0m\u001b[1;35mRecall@1          \u001b[0m\u001b[1;35m \u001b[0m┃\u001b[1;35m \u001b[0m\u001b[1;35mRecall@3         \u001b[0m\u001b[1;35m \u001b[0m┃\u001b[1;35m \u001b[0m\u001b[1;35mRecall@5          \u001b[0m\u001b[1;35m \u001b[0m┃\u001b[1;35m \u001b[0m\u001b[1;35mRecall@10        \u001b[0m\u001b[1;35m \u001b[0m┃\n",
       "┡━━━━━━━━━━━━━━━━━━━━╇━━━━━━━━━━━━━━━━━━━╇━━━━━━━━━━━━━━━━━━━━╇━━━━━━━━━━━━━━━━━━━┩\n",
       "│ 0.6779471963012478 │ 0.818167260890855 │ 0.8584953866448214 │ 0.889636071519568 │\n",
       "└────────────────────┴───────────────────┴────────────────────┴───────────────────┘\n"
      ]
     },
     "metadata": {},
     "output_type": "display_data"
    },
    {
     "data": {
      "text/html": [
       "<pre style=\"white-space:pre;overflow-x:auto;line-height:normal;font-family:Menlo,'DejaVu Sans Mono',consolas,'Courier New',monospace\">┏━━━━━━━━┳━━━━━━━━━━━━━━━━━━━┳━━━━━━━━━━━━━━━━━━━━┳━━━━━━━━━━━━━━━━━━━┓\n",
       "┃<span style=\"color: #800080; text-decoration-color: #800080; font-weight: bold\"> NDCG@1 </span>┃<span style=\"color: #800080; text-decoration-color: #800080; font-weight: bold\"> NDCG@3            </span>┃<span style=\"color: #800080; text-decoration-color: #800080; font-weight: bold\"> NDCG@5             </span>┃<span style=\"color: #800080; text-decoration-color: #800080; font-weight: bold\"> NDCG@10           </span>┃\n",
       "┡━━━━━━━━╇━━━━━━━━━━━━━━━━━━━╇━━━━━━━━━━━━━━━━━━━━╇━━━━━━━━━━━━━━━━━━━┩\n",
       "│ 0.7484 │ 0.837930511374883 │ 0.8599298416853086 │ 0.875286193252386 │\n",
       "└────────┴───────────────────┴────────────────────┴───────────────────┘\n",
       "</pre>\n"
      ],
      "text/plain": [
       "┏━━━━━━━━┳━━━━━━━━━━━━━━━━━━━┳━━━━━━━━━━━━━━━━━━━━┳━━━━━━━━━━━━━━━━━━━┓\n",
       "┃\u001b[1;35m \u001b[0m\u001b[1;35mNDCG@1\u001b[0m\u001b[1;35m \u001b[0m┃\u001b[1;35m \u001b[0m\u001b[1;35mNDCG@3           \u001b[0m\u001b[1;35m \u001b[0m┃\u001b[1;35m \u001b[0m\u001b[1;35mNDCG@5            \u001b[0m\u001b[1;35m \u001b[0m┃\u001b[1;35m \u001b[0m\u001b[1;35mNDCG@10          \u001b[0m\u001b[1;35m \u001b[0m┃\n",
       "┡━━━━━━━━╇━━━━━━━━━━━━━━━━━━━╇━━━━━━━━━━━━━━━━━━━━╇━━━━━━━━━━━━━━━━━━━┩\n",
       "│ 0.7484 │ 0.837930511374883 │ 0.8599298416853086 │ 0.875286193252386 │\n",
       "└────────┴───────────────────┴────────────────────┴───────────────────┘\n"
      ]
     },
     "metadata": {},
     "output_type": "display_data"
    },
    {
     "data": {
      "text/html": [
       "<pre style=\"white-space:pre;overflow-x:auto;line-height:normal;font-family:Menlo,'DejaVu Sans Mono',consolas,'Courier New',monospace\">┏━━━━━━━━━━━━━┳━━━━━━━━━━━━━┳━━━━━━━━━━━━━━━━━━━━━┳━━━━━━━━━━━━━━━━━━━━━┓\n",
       "┃<span style=\"color: #800080; text-decoration-color: #800080; font-weight: bold\"> Precision@1 </span>┃<span style=\"color: #800080; text-decoration-color: #800080; font-weight: bold\"> Precision@3 </span>┃<span style=\"color: #800080; text-decoration-color: #800080; font-weight: bold\"> Precision@5         </span>┃<span style=\"color: #800080; text-decoration-color: #800080; font-weight: bold\"> Precision@10        </span>┃\n",
       "┡━━━━━━━━━━━━━╇━━━━━━━━━━━━━╇━━━━━━━━━━━━━━━━━━━━━╇━━━━━━━━━━━━━━━━━━━━━┩\n",
       "│ 0.7484      │ 0.3252      │ 0.21001999999999998 │ 0.11173000000000002 │\n",
       "└─────────────┴─────────────┴─────────────────────┴─────────────────────┘\n",
       "</pre>\n"
      ],
      "text/plain": [
       "┏━━━━━━━━━━━━━┳━━━━━━━━━━━━━┳━━━━━━━━━━━━━━━━━━━━━┳━━━━━━━━━━━━━━━━━━━━━┓\n",
       "┃\u001b[1;35m \u001b[0m\u001b[1;35mPrecision@1\u001b[0m\u001b[1;35m \u001b[0m┃\u001b[1;35m \u001b[0m\u001b[1;35mPrecision@3\u001b[0m\u001b[1;35m \u001b[0m┃\u001b[1;35m \u001b[0m\u001b[1;35mPrecision@5        \u001b[0m\u001b[1;35m \u001b[0m┃\u001b[1;35m \u001b[0m\u001b[1;35mPrecision@10       \u001b[0m\u001b[1;35m \u001b[0m┃\n",
       "┡━━━━━━━━━━━━━╇━━━━━━━━━━━━━╇━━━━━━━━━━━━━━━━━━━━━╇━━━━━━━━━━━━━━━━━━━━━┩\n",
       "│ 0.7484      │ 0.3252      │ 0.21001999999999998 │ 0.11173000000000002 │\n",
       "└─────────────┴─────────────┴─────────────────────┴─────────────────────┘\n"
      ]
     },
     "metadata": {},
     "output_type": "display_data"
    },
    {
     "data": {
      "text/html": [
       "<pre style=\"white-space:pre;overflow-x:auto;line-height:normal;font-family:Menlo,'DejaVu Sans Mono',consolas,'Courier New',monospace\"><span style=\"color: #00ff00; text-decoration-color: #00ff00\">─────────────────────────────────────────────────── </span>split: val<span style=\"color: #00ff00; text-decoration-color: #00ff00\"> ────────────────────────────────────────────────────</span>\n",
       "</pre>\n"
      ],
      "text/plain": [
       "\u001b[92m─────────────────────────────────────────────────── \u001b[0msplit: val\u001b[92m ────────────────────────────────────────────────────\u001b[0m\n"
      ]
     },
     "metadata": {},
     "output_type": "display_data"
    },
    {
     "data": {
      "text/html": [
       "<pre style=\"white-space:pre;overflow-x:auto;line-height:normal;font-family:Menlo,'DejaVu Sans Mono',consolas,'Courier New',monospace\">┏━━━━━━━━━━━━━━━━━━━━┳━━━━━━━━━━━━━━━━━━━━┳━━━━━━━━━━━━━━━━━━━━┳━━━━━━━━━━━━━━━━━━━━┓\n",
       "┃<span style=\"color: #800080; text-decoration-color: #800080; font-weight: bold\"> Recall@1           </span>┃<span style=\"color: #800080; text-decoration-color: #800080; font-weight: bold\"> Recall@3           </span>┃<span style=\"color: #800080; text-decoration-color: #800080; font-weight: bold\"> Recall@5           </span>┃<span style=\"color: #800080; text-decoration-color: #800080; font-weight: bold\"> Recall@10          </span>┃\n",
       "┡━━━━━━━━━━━━━━━━━━━━╇━━━━━━━━━━━━━━━━━━━━╇━━━━━━━━━━━━━━━━━━━━╇━━━━━━━━━━━━━━━━━━━━┩\n",
       "│ 0.6778875865800864 │ 0.8237463679784268 │ 0.8609643664342195 │ 0.8907103145384025 │\n",
       "└────────────────────┴────────────────────┴────────────────────┴────────────────────┘\n",
       "</pre>\n"
      ],
      "text/plain": [
       "┏━━━━━━━━━━━━━━━━━━━━┳━━━━━━━━━━━━━━━━━━━━┳━━━━━━━━━━━━━━━━━━━━┳━━━━━━━━━━━━━━━━━━━━┓\n",
       "┃\u001b[1;35m \u001b[0m\u001b[1;35mRecall@1          \u001b[0m\u001b[1;35m \u001b[0m┃\u001b[1;35m \u001b[0m\u001b[1;35mRecall@3          \u001b[0m\u001b[1;35m \u001b[0m┃\u001b[1;35m \u001b[0m\u001b[1;35mRecall@5          \u001b[0m\u001b[1;35m \u001b[0m┃\u001b[1;35m \u001b[0m\u001b[1;35mRecall@10         \u001b[0m\u001b[1;35m \u001b[0m┃\n",
       "┡━━━━━━━━━━━━━━━━━━━━╇━━━━━━━━━━━━━━━━━━━━╇━━━━━━━━━━━━━━━━━━━━╇━━━━━━━━━━━━━━━━━━━━┩\n",
       "│ 0.6778875865800864 │ 0.8237463679784268 │ 0.8609643664342195 │ 0.8907103145384025 │\n",
       "└────────────────────┴────────────────────┴────────────────────┴────────────────────┘\n"
      ]
     },
     "metadata": {},
     "output_type": "display_data"
    },
    {
     "data": {
      "text/html": [
       "<pre style=\"white-space:pre;overflow-x:auto;line-height:normal;font-family:Menlo,'DejaVu Sans Mono',consolas,'Courier New',monospace\">┏━━━━━━━━┳━━━━━━━━━━━━━━━━━━━━┳━━━━━━━━━━━━━━━━━━━━┳━━━━━━━━━━━━━━━━━━━━┓\n",
       "┃<span style=\"color: #800080; text-decoration-color: #800080; font-weight: bold\"> NDCG@1 </span>┃<span style=\"color: #800080; text-decoration-color: #800080; font-weight: bold\"> NDCG@3             </span>┃<span style=\"color: #800080; text-decoration-color: #800080; font-weight: bold\"> NDCG@5             </span>┃<span style=\"color: #800080; text-decoration-color: #800080; font-weight: bold\"> NDCG@10            </span>┃\n",
       "┡━━━━━━━━╇━━━━━━━━━━━━━━━━━━━━╇━━━━━━━━━━━━━━━━━━━━╇━━━━━━━━━━━━━━━━━━━━┩\n",
       "│ 0.7502 │ 0.8394773399331414 │ 0.8594035811792401 │ 0.8741040897764475 │\n",
       "└────────┴────────────────────┴────────────────────┴────────────────────┘\n",
       "</pre>\n"
      ],
      "text/plain": [
       "┏━━━━━━━━┳━━━━━━━━━━━━━━━━━━━━┳━━━━━━━━━━━━━━━━━━━━┳━━━━━━━━━━━━━━━━━━━━┓\n",
       "┃\u001b[1;35m \u001b[0m\u001b[1;35mNDCG@1\u001b[0m\u001b[1;35m \u001b[0m┃\u001b[1;35m \u001b[0m\u001b[1;35mNDCG@3            \u001b[0m\u001b[1;35m \u001b[0m┃\u001b[1;35m \u001b[0m\u001b[1;35mNDCG@5            \u001b[0m\u001b[1;35m \u001b[0m┃\u001b[1;35m \u001b[0m\u001b[1;35mNDCG@10           \u001b[0m\u001b[1;35m \u001b[0m┃\n",
       "┡━━━━━━━━╇━━━━━━━━━━━━━━━━━━━━╇━━━━━━━━━━━━━━━━━━━━╇━━━━━━━━━━━━━━━━━━━━┩\n",
       "│ 0.7502 │ 0.8394773399331414 │ 0.8594035811792401 │ 0.8741040897764475 │\n",
       "└────────┴────────────────────┴────────────────────┴────────────────────┘\n"
      ]
     },
     "metadata": {},
     "output_type": "display_data"
    },
    {
     "data": {
      "text/html": [
       "<pre style=\"white-space:pre;overflow-x:auto;line-height:normal;font-family:Menlo,'DejaVu Sans Mono',consolas,'Courier New',monospace\">┏━━━━━━━━━━━━━┳━━━━━━━━━━━━━━━━━━━━┳━━━━━━━━━━━━━━━━━━━━━┳━━━━━━━━━━━━━━━━━━━━━┓\n",
       "┃<span style=\"color: #800080; text-decoration-color: #800080; font-weight: bold\"> Precision@1 </span>┃<span style=\"color: #800080; text-decoration-color: #800080; font-weight: bold\"> Precision@3        </span>┃<span style=\"color: #800080; text-decoration-color: #800080; font-weight: bold\"> Precision@5         </span>┃<span style=\"color: #800080; text-decoration-color: #800080; font-weight: bold\"> Precision@10        </span>┃\n",
       "┡━━━━━━━━━━━━━╇━━━━━━━━━━━━━━━━━━━━╇━━━━━━━━━━━━━━━━━━━━━╇━━━━━━━━━━━━━━━━━━━━━┩\n",
       "│ 0.7502      │ 0.3280666666666666 │ 0.21083999999999997 │ 0.11175999999999998 │\n",
       "└─────────────┴────────────────────┴─────────────────────┴─────────────────────┘\n",
       "</pre>\n"
      ],
      "text/plain": [
       "┏━━━━━━━━━━━━━┳━━━━━━━━━━━━━━━━━━━━┳━━━━━━━━━━━━━━━━━━━━━┳━━━━━━━━━━━━━━━━━━━━━┓\n",
       "┃\u001b[1;35m \u001b[0m\u001b[1;35mPrecision@1\u001b[0m\u001b[1;35m \u001b[0m┃\u001b[1;35m \u001b[0m\u001b[1;35mPrecision@3       \u001b[0m\u001b[1;35m \u001b[0m┃\u001b[1;35m \u001b[0m\u001b[1;35mPrecision@5        \u001b[0m\u001b[1;35m \u001b[0m┃\u001b[1;35m \u001b[0m\u001b[1;35mPrecision@10       \u001b[0m\u001b[1;35m \u001b[0m┃\n",
       "┡━━━━━━━━━━━━━╇━━━━━━━━━━━━━━━━━━━━╇━━━━━━━━━━━━━━━━━━━━━╇━━━━━━━━━━━━━━━━━━━━━┩\n",
       "│ 0.7502      │ 0.3280666666666666 │ 0.21083999999999997 │ 0.11175999999999998 │\n",
       "└─────────────┴────────────────────┴─────────────────────┴─────────────────────┘\n"
      ]
     },
     "metadata": {},
     "output_type": "display_data"
    }
   ],
   "source": [
    "with cf.Distributed(\n",
    "    rmm_pool_size=f\"{torch_mem}GB\",\n",
    "    jit_unspill=True,\n",
    "    enable_cudf_spilling=True,\n",
    "    n_workers=2\n",
    "):\n",
    "    report = cf.beir_report(\n",
    "        dataset,\n",
    "        model=model,\n",
    "        vector_search=vector_search,\n",
    "        partition_num=50_000,\n",
    "        overwrite=True,\n",
    "        sorted_data_loader=True\n",
    "    )\n",
    "    \n",
    "report.console()"
   ]
  },
  {
   "cell_type": "code",
   "execution_count": null,
   "metadata": {},
   "outputs": [],
   "source": []
  }
 ],
 "metadata": {
  "kernelspec": {
   "display_name": "Python 3",
   "language": "python",
   "name": "python3"
  },
  "language_info": {
   "codemirror_mode": {
    "name": "ipython",
    "version": 3
   },
   "file_extension": ".py",
   "mimetype": "text/x-python",
   "name": "python",
   "nbconvert_exporter": "python",
   "pygments_lexer": "ipython3",
   "version": "3.10.6"
  }
 },
 "nbformat": 4,
 "nbformat_minor": 2
}
